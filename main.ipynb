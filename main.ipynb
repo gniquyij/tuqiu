{
 "cells": [
  {
   "cell_type": "markdown",
   "metadata": {},
   "source": [
    "# tuqiu"
   ]
  },
  {
   "cell_type": "markdown",
   "metadata": {},
   "source": [
    "## 1. Safari"
   ]
  },
  {
   "cell_type": "markdown",
   "metadata": {},
   "source": [
    "Safari (Version 12.1) history is stored in: `/Users/<REPLACE-WITH-YOUR-USERNAME>/Library/Safari/History.db`\n",
    "\n",
    "You can not directly retrieve it because of [System Integrity Protection](https://en.wikipedia.org/wiki/System_Integrity_Protection). For accessing your browser history, you need to either change the permission or make a copy."
   ]
  },
  {
   "cell_type": "code",
   "execution_count": 16,
   "metadata": {},
   "outputs": [],
   "source": [
    "history = \"History.db\""
   ]
  },
  {
   "cell_type": "code",
   "execution_count": 17,
   "metadata": {},
   "outputs": [],
   "source": [
    "import sqlite3\n",
    "\n",
    "def query_db(database, query):\n",
    "    db = sqlite3.connect(database)\n",
    "    c = db.cursor()\n",
    "    c.execute(query)\n",
    "    \n",
    "    return c.fetchall()"
   ]
  },
  {
   "cell_type": "code",
   "execution_count": 21,
   "metadata": {},
   "outputs": [],
   "source": [
    "# top 10 most visited urls\n",
    "\n",
    "query = '''\n",
    "select url, visit_count \n",
    "from history_items \n",
    "order by visit_count desc \n",
    "limit 10;\n",
    "'''\n",
    "query_db(history, query)"
   ]
  },
  {
   "cell_type": "code",
   "execution_count": null,
   "metadata": {},
   "outputs": [],
   "source": [
    "# top 10 most visited domains\n",
    "\n",
    "query = '''\n",
    "select domain_expansion, count(*)\n",
    "from history_items \n",
    "group by domain_expansion\n",
    "order by count(*) desc \n",
    "limit 10;\n",
    "'''\n",
    "query_db(history, query)"
   ]
  }
 ],
 "metadata": {
  "kernelspec": {
   "display_name": "Python 3",
   "language": "python",
   "name": "python3"
  },
  "language_info": {
   "codemirror_mode": {
    "name": "ipython",
    "version": 3
   },
   "file_extension": ".py",
   "mimetype": "text/x-python",
   "name": "python",
   "nbconvert_exporter": "python",
   "pygments_lexer": "ipython3",
   "version": "3.7.3"
  }
 },
 "nbformat": 4,
 "nbformat_minor": 1
}
