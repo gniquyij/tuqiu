{
 "cells": [
  {
   "cell_type": "markdown",
   "metadata": {},
   "source": [
    "# Dark side of OS X"
   ]
  },
  {
   "cell_type": "markdown",
   "metadata": {},
   "source": [
    "I have some data requirements under GUI when I use my Mac so I wrote the following scripts to resolve them. Details to follow. "
   ]
  },
  {
   "cell_type": "markdown",
   "metadata": {},
   "source": [
    "First comes the db connection function. The apps mentioned here are using sqlite. Note that you can not retrieve any app data directly because of [System Integrity Protection](https://en.wikipedia.org/wiki/System_Integrity_Protection). For accessing them, either change the permission or make a copy."
   ]
  },
  {
   "cell_type": "code",
   "execution_count": null,
   "metadata": {},
   "outputs": [],
   "source": [
    "import sqlite3\n",
    "\n",
    "def query_db(database, query):\n",
    "    db = sqlite3.connect(database)\n",
    "    c = db.cursor()\n",
    "    c.execute(query)\n",
    "    \n",
    "    return c.fetchall()"
   ]
  },
  {
   "cell_type": "markdown",
   "metadata": {},
   "source": [
    "## 1. Safari (Version 12.1)"
   ]
  },
  {
   "cell_type": "markdown",
   "metadata": {},
   "source": [
    "Safari is my default browser. I've been always wondering how I spend my time on web browsering. For instance, what did I visit? How frequently was that? There might be some stats extensions for Chrome or Firefox but nothing I could find for Safari. Here's my solution. "
   ]
  },
  {
   "cell_type": "markdown",
   "metadata": {},
   "source": [
    "Safari history data: `/Users/<REPLACE-WITH-YOUR-USERNAME>/Library/Safari/History.db`"
   ]
  },
  {
   "cell_type": "code",
   "execution_count": null,
   "metadata": {},
   "outputs": [],
   "source": [
    "history = \"History.db\""
   ]
  },
  {
   "cell_type": "code",
   "execution_count": null,
   "metadata": {},
   "outputs": [],
   "source": [
    "# top 10 most visited urls\n",
    "\n",
    "query = '''\n",
    "select url, visit_count \n",
    "from history_items \n",
    "order by visit_count desc \n",
    "limit 10;\n",
    "'''\n",
    "query_db(history, query)"
   ]
  },
  {
   "cell_type": "code",
   "execution_count": null,
   "metadata": {},
   "outputs": [],
   "source": [
    "# top 10 most visited domains\n",
    "\n",
    "query = '''\n",
    "select domain_expansion, count(*)\n",
    "from history_items \n",
    "group by domain_expansion\n",
    "order by count(*) desc \n",
    "limit 10;\n",
    "'''\n",
    "query_db(history, query)"
   ]
  },
  {
   "cell_type": "markdown",
   "metadata": {},
   "source": [
    "## 2. Notes (Version 4.6)"
   ]
  },
  {
   "cell_type": "markdown",
   "metadata": {},
   "source": [
    "I periodically triage my notes through the following way then do a backup although it seems time machine may help which IMO is not that flexible. "
   ]
  },
  {
   "cell_type": "markdown",
   "metadata": {},
   "source": [
    "Notes Data: `/Users/<REPLACE-WITH-YOUR-USERNAME>/Library/Containers/com.apple.Notes/Data/Library/Notes/NotesV7.storedata`"
   ]
  },
  {
   "cell_type": "code",
   "execution_count": null,
   "metadata": {},
   "outputs": [],
   "source": [
    "notes = 'NoteStore.sqlite'"
   ]
  },
  {
   "cell_type": "code",
   "execution_count": null,
   "metadata": {},
   "outputs": [],
   "source": [
    "# content of your notes\n",
    "\n",
    "query = '''\n",
    "select ZDATA \n",
    "from ZICNOTEDATA;\n",
    "'''\n",
    "\n",
    "# content of the 1st note\n",
    "\n",
    "note_0 = query_db(notes, query)[0][0]"
   ]
  },
  {
   "cell_type": "markdown",
   "metadata": {},
   "source": [
    "There might be encoding issue when `print (note_0)`. The notes are compressed binary. Take 'sample' as an example - file 'sample' is a note I exported from my Notes db. \n",
    "``` \n",
    "$ file -I sample\n",
    "sample: application/x-gzip; charset=binary\n",
    "```\n",
    "\n",
    "And here's my way to make it human readable."
   ]
  },
  {
   "cell_type": "code",
   "execution_count": null,
   "metadata": {},
   "outputs": [],
   "source": [
    "import zlib\n",
    "\n",
    "note_0_readable = zlib.decompress(note_0, 16+zlib.MAX_WBITS)\n",
    "print (note_0_readable)"
   ]
  }
 ],
 "metadata": {
  "kernelspec": {
   "display_name": "Python 3",
   "language": "python",
   "name": "python3"
  },
  "language_info": {
   "codemirror_mode": {
    "name": "ipython",
    "version": 3
   },
   "file_extension": ".py",
   "mimetype": "text/x-python",
   "name": "python",
   "nbconvert_exporter": "python",
   "pygments_lexer": "ipython3",
   "version": "3.7.3"
  }
 },
 "nbformat": 4,
 "nbformat_minor": 1
}
